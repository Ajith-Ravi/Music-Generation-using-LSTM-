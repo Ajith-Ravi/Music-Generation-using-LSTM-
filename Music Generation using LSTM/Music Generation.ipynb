{
 "cells": [
  {
   "cell_type": "markdown",
   "metadata": {},
   "source": [
    "# Music creation by LSTM Network\n",
    "\n",
    "\n",
    "\n"
   ]
  },
  {
   "cell_type": "code",
   "execution_count": 59,
   "metadata": {},
   "outputs": [],
   "source": [
    "#For understanding MIDI files MIDI \n",
    "import music21  \n",
    "from music21 import converter, pitch, interval\n",
    "import os\n",
    "import glob"
   ]
  },
  {
   "cell_type": "markdown",
   "metadata": {},
   "source": [
    "## Dataset"
   ]
  },
  {
   "cell_type": "code",
   "execution_count": 60,
   "metadata": {},
   "outputs": [
    {
     "data": {
      "text/plain": [
       "['schubert_D850_1.mid',\n",
       " 'schubert_D850_2.mid',\n",
       " 'schubert_D850_3.mid',\n",
       " 'schubert_D850_4.mid',\n",
       " 'schubert_D935_1.mid',\n",
       " 'schubert_D935_2.mid',\n",
       " 'schubert_D935_3.mid',\n",
       " 'schubert_D935_4.mid',\n",
       " 'schub_d760_1.mid',\n",
       " 'schub_d760_2.mid',\n",
       " 'schub_d760_3.mid',\n",
       " 'schub_d760_4.mid',\n",
       " 'schub_d960_1.mid',\n",
       " 'schub_d960_2.mid',\n",
       " 'schub_d960_3.mid',\n",
       " 'schub_d960_4.mid',\n",
       " 'schuim-1.mid',\n",
       " 'schuim-2.mid',\n",
       " 'schuim-3.mid',\n",
       " 'schuim-4.mid',\n",
       " 'schumm-1.mid',\n",
       " 'schumm-2.mid',\n",
       " 'schumm-3.mid',\n",
       " 'schumm-4.mid',\n",
       " 'schumm-5.mid',\n",
       " 'schumm-6.mid',\n",
       " 'schu_143_1.mid',\n",
       " 'schu_143_2.mid',\n",
       " 'schu_143_3.mid']"
      ]
     },
     "execution_count": 60,
     "metadata": {},
     "output_type": "execute_result"
    }
   ],
   "source": [
    "#Dataset - Midi files - Music Instrument Digital interface(MIDI)\n",
    "song_dir = \"Schubert_dataset\"\n",
    "song_list = os.listdir(song_dir)\n",
    "song_list"
   ]
  },
  {
   "cell_type": "markdown",
   "metadata": {},
   "source": [
    "## Separation of Note and Chords"
   ]
  },
  {
   "cell_type": "code",
   "execution_count": 61,
   "metadata": {},
   "outputs": [
    {
     "name": "stdout",
     "output_type": "stream",
     "text": [
      "Total Length of the Notes List : 83104\n",
      "Different Notes : ['2.6.9' '2' '9.2' ... '9.0.4' '9.0.4' '9.0.4']\n"
     ]
    }
   ],
   "source": [
    "#getting in musical format\n",
    "from music21 import note, chord, instrument\n",
    "import numpy as np\n",
    "\n",
    "Notes_Chords = []\n",
    "for song in glob.glob(song_dir + '/*.mid'):\n",
    "    global score\n",
    "    score = converter.parse(song)\n",
    "    notes_to_parse = None\n",
    "    parts = instrument.partitionByInstrument(score)\n",
    "    if parts:\n",
    "        notes_to_parse = parts.parts[0].recurse()\n",
    "    else:\n",
    "        notes_to_parse = score.flat.notes\n",
    "    \n",
    "    for element in notes_to_parse:\n",
    "        if isinstance(element,note.Note):\n",
    "            Notes_Chords.append(str(element.pitch))\n",
    "        if isinstance(element,chord.Chord):\n",
    "            Notes_Chords.append(\".\".join(str(n) for n in element.normalOrder))\n",
    "total_notes = len((Notes_Chords))            \n",
    "print(\"Total Length of the Notes List :\",len(Notes_Chords))\n",
    "print(\"Different Notes :\",np.array(Notes_Chords))"
   ]
  },
  {
   "cell_type": "markdown",
   "metadata": {},
   "source": [
    "## Instruments used in Dataset "
   ]
  },
  {
   "cell_type": "code",
   "execution_count": 62,
   "metadata": {},
   "outputs": [
    {
     "name": "stdout",
     "output_type": "stream",
     "text": [
      "Instruments:  Piano\n",
      "Instruments:  Piano\n",
      "Instruments:  Piano\n",
      "Instruments:  Piano\n",
      "Instruments:  Piano\n",
      "Instruments:  Piano\n",
      "Instruments:  Piano\n",
      "Instruments:  Piano\n",
      "Instruments:  Piano\n",
      "Instruments:  Piano\n",
      "Instruments:  Piano\n",
      "Instruments:  Piano\n",
      "Instruments:  Piano\n",
      "Instruments:  Piano\n",
      "Instruments:  Piano\n",
      "Instruments:  Piano\n",
      "Instruments:  Piano\n",
      "Instruments:  Piano\n",
      "Instruments:  Piano\n",
      "Instruments:  Piano\n",
      "Instruments:  Piano\n",
      "Instruments:  Piano\n",
      "Instruments:  Piano\n",
      "Instruments:  Piano\n",
      "Instruments:  Piano\n",
      "Instruments:  Piano\n",
      "Instruments:  Piano\n",
      "Instruments:  Piano\n",
      "Instruments:  Piano\n"
     ]
    }
   ],
   "source": [
    "#to get instrumets used in the midi file\n",
    "from music21 import instrument\n",
    "for song in glob.glob(song_dir + '/*.mid'):\n",
    "    parts = instrument.partitionByInstrument(score) #or use (parts = score.parts.stream())\n",
    "    for p in parts:\n",
    "        global music_instrument\n",
    "        music_instrument = p.partName\n",
    "        print(\"Instruments: \",music_instrument)\n",
    "   "
   ]
  },
  {
   "cell_type": "code",
   "execution_count": 63,
   "metadata": {},
   "outputs": [
    {
     "name": "stdout",
     "output_type": "stream",
     "text": [
      "['0', '0.1', '0.1.5', '0.2', '0.2.4', '0.2.5', '0.2.6', '0.2.7', '0.3', '0.3.4', '0.3.5', '0.3.6', '0.3.6.8', '0.3.6.9', '0.3.7', '0.4', '0.4.5', '0.4.6', '0.4.7', '0.4.8', '0.5', '0.6', '1', '1.2.6', '1.3', '1.3.5.8', '1.3.6', '1.3.6.9', '1.3.7', '1.3.7.8', '1.3.8', '1.4', '1.4.5', '1.4.6', '1.4.7', '1.4.7.10', '1.4.7.9', '1.4.8', '1.5', '1.5.8', '1.5.9', '1.6', '1.7', '10', '10.0', '10.0.2', '10.0.2.5', '10.0.3', '10.0.4', '10.0.4.5', '10.0.5', '10.1', '10.1.3', '10.1.4', '10.1.4.5', '10.1.4.6', '10.1.5', '10.2', '10.2.4', '10.2.5', '10.3', '10.3.4', '11', '11.0', '11.0.2', '11.0.4', '11.1', '11.1.4', '11.1.4.7', '11.1.5', '11.1.6', '11.2', '11.2.4', '11.2.4.7', '11.2.5', '11.2.5.7', '11.2.6', '11.3', '11.3.6', '11.4', '2', '2.3', '2.4', '2.4.6', '2.4.7', '2.4.8', '2.4.9', '2.5', '2.5.7', '2.5.8', '2.5.8.10', '2.5.8.11', '2.5.8.9', '2.5.9', '2.6', '2.6.10', '2.6.8', '2.6.9', '2.7', '2.8', '3', '3.4', '3.5', '3.5.10', '3.5.7', '3.5.8', '3.5.8.11', '3.5.9', '3.6', '3.6.10', '3.6.8', '3.6.8.11', '3.6.9', '3.6.9.11', '3.7', '3.7.10', '3.7.11', '3.7.8', '3.7.9', '3.8', '3.8.9', '3.9', '4', '4.10', '4.5', '4.5.10', '4.5.8', '4.5.9', '4.6', '4.6.10', '4.6.10.0', '4.6.11', '4.6.9', '4.6.9.0', '4.7', '4.7.10', '4.7.10.0', '4.7.11', '4.7.9', '4.8', '4.8.11', '4.9', '5', '5.10', '5.11', '5.6.10', '5.6.9', '5.6.9.0', '5.7', '5.7.0', '5.7.10', '5.7.11', '5.7.11.1', '5.8', '5.8.0', '5.8.10', '5.8.10.11', '5.8.11', '5.8.11.1', '5.9', '5.9.0', '5.9.11', '6', '6.10', '6.10.0', '6.10.1', '6.11', '6.7', '6.7.11', '6.7.9', '6.8', '6.8.0', '6.8.1', '6.8.11', '6.9', '6.9.0', '6.9.0.2', '6.9.1', '6.9.11', '7', '7.0', '7.10', '7.10.0', '7.10.0.3', '7.10.1', '7.10.1.3', '7.10.2', '7.11', '7.11.1', '7.11.2', '7.8', '7.8.0', '7.9', '7.9.0', '7.9.1', '7.9.10', '7.9.11', '7.9.2', '8', '8.0', '8.0.1', '8.0.2', '8.0.3', '8.1', '8.10', '8.10.1', '8.10.1.4', '8.10.2', '8.10.3', '8.11', '8.11.0', '8.11.1', '8.11.2', '8.11.2.4', '8.11.3', '8.9', '9', '9.0', '9.0.2', '9.0.3', '9.0.3.5', '9.0.4', '9.1', '9.1.3', '9.1.4', '9.10', '9.10.2', '9.11', '9.11.2', '9.11.2.5', '9.11.3', '9.11.4', '9.2', 'A1', 'A2', 'A3', 'A4', 'A5', 'A6', 'B-1', 'B-2', 'B-3', 'B-4', 'B-5', 'B-6', 'B1', 'B2', 'B3', 'B4', 'B5', 'B6', 'C#2', 'C#3', 'C#4', 'C#5', 'C#6', 'C#7', 'C2', 'C3', 'C4', 'C5', 'C6', 'C7', 'D1', 'D2', 'D3', 'D4', 'D5', 'D6', 'D7', 'E-2', 'E-3', 'E-4', 'E-5', 'E-6', 'E-7', 'E1', 'E2', 'E3', 'E4', 'E5', 'E6', 'E7', 'F#1', 'F#2', 'F#3', 'F#4', 'F#5', 'F#6', 'F1', 'F2', 'F3', 'F4', 'F5', 'F6', 'F7', 'G#1', 'G#2', 'G#3', 'G#4', 'G#5', 'G#6', 'G1', 'G2', 'G3', 'G4', 'G5', 'G6']\n",
      "Total Unique Notes: 308\n"
     ]
    },
    {
     "data": {
      "text/plain": [
       "array({'0': 0, '0.1': 1, '0.1.5': 2, '0.2': 3, '0.2.4': 4, '0.2.5': 5, '0.2.6': 6, '0.2.7': 7, '0.3': 8, '0.3.4': 9, '0.3.5': 10, '0.3.6': 11, '0.3.6.8': 12, '0.3.6.9': 13, '0.3.7': 14, '0.4': 15, '0.4.5': 16, '0.4.6': 17, '0.4.7': 18, '0.4.8': 19, '0.5': 20, '0.6': 21, '1': 22, '1.2.6': 23, '1.3': 24, '1.3.5.8': 25, '1.3.6': 26, '1.3.6.9': 27, '1.3.7': 28, '1.3.7.8': 29, '1.3.8': 30, '1.4': 31, '1.4.5': 32, '1.4.6': 33, '1.4.7': 34, '1.4.7.10': 35, '1.4.7.9': 36, '1.4.8': 37, '1.5': 38, '1.5.8': 39, '1.5.9': 40, '1.6': 41, '1.7': 42, '10': 43, '10.0': 44, '10.0.2': 45, '10.0.2.5': 46, '10.0.3': 47, '10.0.4': 48, '10.0.4.5': 49, '10.0.5': 50, '10.1': 51, '10.1.3': 52, '10.1.4': 53, '10.1.4.5': 54, '10.1.4.6': 55, '10.1.5': 56, '10.2': 57, '10.2.4': 58, '10.2.5': 59, '10.3': 60, '10.3.4': 61, '11': 62, '11.0': 63, '11.0.2': 64, '11.0.4': 65, '11.1': 66, '11.1.4': 67, '11.1.4.7': 68, '11.1.5': 69, '11.1.6': 70, '11.2': 71, '11.2.4': 72, '11.2.4.7': 73, '11.2.5': 74, '11.2.5.7': 75, '11.2.6': 76, '11.3': 77, '11.3.6': 78, '11.4': 79, '2': 80, '2.3': 81, '2.4': 82, '2.4.6': 83, '2.4.7': 84, '2.4.8': 85, '2.4.9': 86, '2.5': 87, '2.5.7': 88, '2.5.8': 89, '2.5.8.10': 90, '2.5.8.11': 91, '2.5.8.9': 92, '2.5.9': 93, '2.6': 94, '2.6.10': 95, '2.6.8': 96, '2.6.9': 97, '2.7': 98, '2.8': 99, '3': 100, '3.4': 101, '3.5': 102, '3.5.10': 103, '3.5.7': 104, '3.5.8': 105, '3.5.8.11': 106, '3.5.9': 107, '3.6': 108, '3.6.10': 109, '3.6.8': 110, '3.6.8.11': 111, '3.6.9': 112, '3.6.9.11': 113, '3.7': 114, '3.7.10': 115, '3.7.11': 116, '3.7.8': 117, '3.7.9': 118, '3.8': 119, '3.8.9': 120, '3.9': 121, '4': 122, '4.10': 123, '4.5': 124, '4.5.10': 125, '4.5.8': 126, '4.5.9': 127, '4.6': 128, '4.6.10': 129, '4.6.10.0': 130, '4.6.11': 131, '4.6.9': 132, '4.6.9.0': 133, '4.7': 134, '4.7.10': 135, '4.7.10.0': 136, '4.7.11': 137, '4.7.9': 138, '4.8': 139, '4.8.11': 140, '4.9': 141, '5': 142, '5.10': 143, '5.11': 144, '5.6.10': 145, '5.6.9': 146, '5.6.9.0': 147, '5.7': 148, '5.7.0': 149, '5.7.10': 150, '5.7.11': 151, '5.7.11.1': 152, '5.8': 153, '5.8.0': 154, '5.8.10': 155, '5.8.10.11': 156, '5.8.11': 157, '5.8.11.1': 158, '5.9': 159, '5.9.0': 160, '5.9.11': 161, '6': 162, '6.10': 163, '6.10.0': 164, '6.10.1': 165, '6.11': 166, '6.7': 167, '6.7.11': 168, '6.7.9': 169, '6.8': 170, '6.8.0': 171, '6.8.1': 172, '6.8.11': 173, '6.9': 174, '6.9.0': 175, '6.9.0.2': 176, '6.9.1': 177, '6.9.11': 178, '7': 179, '7.0': 180, '7.10': 181, '7.10.0': 182, '7.10.0.3': 183, '7.10.1': 184, '7.10.1.3': 185, '7.10.2': 186, '7.11': 187, '7.11.1': 188, '7.11.2': 189, '7.8': 190, '7.8.0': 191, '7.9': 192, '7.9.0': 193, '7.9.1': 194, '7.9.10': 195, '7.9.11': 196, '7.9.2': 197, '8': 198, '8.0': 199, '8.0.1': 200, '8.0.2': 201, '8.0.3': 202, '8.1': 203, '8.10': 204, '8.10.1': 205, '8.10.1.4': 206, '8.10.2': 207, '8.10.3': 208, '8.11': 209, '8.11.0': 210, '8.11.1': 211, '8.11.2': 212, '8.11.2.4': 213, '8.11.3': 214, '8.9': 215, '9': 216, '9.0': 217, '9.0.2': 218, '9.0.3': 219, '9.0.3.5': 220, '9.0.4': 221, '9.1': 222, '9.1.3': 223, '9.1.4': 224, '9.10': 225, '9.10.2': 226, '9.11': 227, '9.11.2': 228, '9.11.2.5': 229, '9.11.3': 230, '9.11.4': 231, '9.2': 232, 'A1': 233, 'A2': 234, 'A3': 235, 'A4': 236, 'A5': 237, 'A6': 238, 'B-1': 239, 'B-2': 240, 'B-3': 241, 'B-4': 242, 'B-5': 243, 'B-6': 244, 'B1': 245, 'B2': 246, 'B3': 247, 'B4': 248, 'B5': 249, 'B6': 250, 'C#2': 251, 'C#3': 252, 'C#4': 253, 'C#5': 254, 'C#6': 255, 'C#7': 256, 'C2': 257, 'C3': 258, 'C4': 259, 'C5': 260, 'C6': 261, 'C7': 262, 'D1': 263, 'D2': 264, 'D3': 265, 'D4': 266, 'D5': 267, 'D6': 268, 'D7': 269, 'E-2': 270, 'E-3': 271, 'E-4': 272, 'E-5': 273, 'E-6': 274, 'E-7': 275, 'E1': 276, 'E2': 277, 'E3': 278, 'E4': 279, 'E5': 280, 'E6': 281, 'E7': 282, 'F#1': 283, 'F#2': 284, 'F#3': 285, 'F#4': 286, 'F#5': 287, 'F#6': 288, 'F1': 289, 'F2': 290, 'F3': 291, 'F4': 292, 'F5': 293, 'F6': 294, 'F7': 295, 'G#1': 296, 'G#2': 297, 'G#3': 298, 'G#4': 299, 'G#5': 300, 'G#6': 301, 'G1': 302, 'G2': 303, 'G3': 304, 'G4': 305, 'G5': 306, 'G6': 307},\n",
       "      dtype=object)"
      ]
     },
     "execution_count": 63,
     "metadata": {},
     "output_type": "execute_result"
    }
   ],
   "source": [
    "#Finding the unique notes or chords,then sorted mapping with a number\n",
    "Unique_Notes_Chords = sorted(set(item for item in Notes_Chords))\n",
    "print(Unique_Notes_Chords)\n",
    "total_unique_notes = len(Unique_Notes_Chords)\n",
    "print(\"Total Unique Notes:\",total_unique_notes)\n",
    "\n",
    "#Mapping every unique note with an integer \n",
    "Notes_Chords_to_int = dict((note , number) for number, note in enumerate(Unique_Notes_Chords))\n",
    "\n",
    "#Notes_Chords_to_int\n",
    "np.array(Notes_Chords_to_int)"
   ]
  },
  {
   "cell_type": "markdown",
   "metadata": {},
   "source": [
    "## Input Sequences"
   ]
  },
  {
   "cell_type": "code",
   "execution_count": 64,
   "metadata": {},
   "outputs": [
    {
     "name": "stdout",
     "output_type": "stream",
     "text": [
      "Length of Network Input : 82984\n",
      "Length of Unique Notes : 83104\n"
     ]
    }
   ],
   "source": [
    "#Preparing input sequences\n",
    "\n",
    "sequence_length = 120\n",
    "\n",
    "network_input = []\n",
    "network_output =[]\n",
    "\n",
    "for i in range(0,len(Notes_Chords)-sequence_length,1):\n",
    "    #input and output at a single time interval\n",
    "    seq_in = Notes_Chords[i:i+sequence_length]\n",
    "    seq_out = Notes_Chords[i+sequence_length]\n",
    "    #Converting the seq_in and seq_out to int to make it more understandable\n",
    "    network_input.append([Notes_Chords_to_int[note] for note in seq_in])\n",
    "    network_output.append(Notes_Chords_to_int[seq_out])\n",
    "print(\"Length of Network Input :\",len(network_input))\n",
    "print(\"Length of Unique Notes :\",len(Notes_Chords))"
   ]
  },
  {
   "cell_type": "code",
   "execution_count": 65,
   "metadata": {},
   "outputs": [],
   "source": [
    "import copy\n",
    "network_input_copy = copy.deepcopy(network_input)"
   ]
  },
  {
   "cell_type": "code",
   "execution_count": 66,
   "metadata": {},
   "outputs": [],
   "source": [
    "#reshaping it in (m,Tx,Features)\n",
    "network_input= np.reshape(network_input,(len(network_input),sequence_length,1))\n",
    "\n",
    "#normalising input for better training (getting < 1)\n",
    "#total notes is length of unique Notes_chords as each item of network input is mapped (See : Notes chord to int)\n",
    "network_input = network_input/float(total_unique_notes)"
   ]
  },
  {
   "cell_type": "code",
   "execution_count": 67,
   "metadata": {},
   "outputs": [
    {
     "data": {
      "text/plain": [
       "(82984, 120, 1)"
      ]
     },
     "execution_count": 67,
     "metadata": {},
     "output_type": "execute_result"
    }
   ],
   "source": [
    "network_input.shape"
   ]
  },
  {
   "cell_type": "markdown",
   "metadata": {},
   "source": [
    "## Training the Model \n",
    "* I have used epochs = 2 to get the output faster . Train with more than 30 opchs for better result.\n",
    "* The outputs units I have used are having the max value 32(2^4) and reduced further.\n",
    "* Try with higher powers like (2^8) for getting better results. (Takes hours to train)"
   ]
  },
  {
   "cell_type": "code",
   "execution_count": 68,
   "metadata": {},
   "outputs": [],
   "source": [
    "import tensorflow as tf\n",
    "from tensorflow import keras\n",
    "from keras import utils"
   ]
  },
  {
   "cell_type": "code",
   "execution_count": 69,
   "metadata": {},
   "outputs": [],
   "source": [
    "#Converting network output from vector to a matrix of dimension total_unique_notes\n",
    "#i.e one-coded vector for each unique note - using to_categoriacal\n",
    "network_output = keras.utils.to_categorical(network_output)"
   ]
  },
  {
   "cell_type": "code",
   "execution_count": 81,
   "metadata": {},
   "outputs": [
    {
     "name": "stdout",
     "output_type": "stream",
     "text": [
      "Model: \"sequential_8\"\n",
      "_________________________________________________________________\n",
      "Layer (type)                 Output Shape              Param #   \n",
      "=================================================================\n",
      "lstm_24 (LSTM)               (None, 120, 16)           1152      \n",
      "_________________________________________________________________\n",
      "dropout_24 (Dropout)         (None, 120, 16)           0         \n",
      "_________________________________________________________________\n",
      "lstm_25 (LSTM)               (None, 120, 32)           6272      \n",
      "_________________________________________________________________\n",
      "dropout_25 (Dropout)         (None, 120, 32)           0         \n",
      "_________________________________________________________________\n",
      "lstm_26 (LSTM)               (None, 16)                3136      \n",
      "_________________________________________________________________\n",
      "dense_16 (Dense)             (None, 16)                272       \n",
      "_________________________________________________________________\n",
      "dropout_26 (Dropout)         (None, 16)                0         \n",
      "_________________________________________________________________\n",
      "dense_17 (Dense)             (None, 308)               5236      \n",
      "_________________________________________________________________\n",
      "activation_8 (Activation)    (None, 308)               0         \n",
      "=================================================================\n",
      "Total params: 16,068\n",
      "Trainable params: 16,068\n",
      "Non-trainable params: 0\n",
      "_________________________________________________________________\n"
     ]
    }
   ],
   "source": [
    "#model\n",
    "#return_sequences=True for including previous activation a<t-1> for training in a<t> too ,or else we will get only the final activation a<Tx>\n",
    "#Dropout - to prevent overfitting\n",
    "m,Tx,feature = network_input.shape\n",
    "model = keras.Sequential([\n",
    "    keras.layers.LSTM(units=16,input_shape=(Tx,feature),return_sequences = True),\n",
    "    keras.layers.Dropout(rate = 0.1),\n",
    "    keras.layers.LSTM(units=32,return_sequences = True),\n",
    "    #keras.layers.BatchNormalization(),\n",
    "    keras.layers.Dropout(rate = 0.1),\n",
    "    keras.layers.LSTM(units = 16),\n",
    "    keras.layers.Dense(units = 16),\n",
    "    #keras.layers.Activation('relu'),\n",
    "    #keras.layers.BatchNormalization(),\n",
    "    keras.layers.Dropout(rate = 0.1),\n",
    "    #keras.layers.Dropout(rate =0.05),\n",
    "    keras.layers.Dense(units = total_unique_notes),\n",
    "    keras.layers.Activation('softmax')\n",
    "])\n",
    "\n",
    "model.summary()"
   ]
  },
  {
   "cell_type": "code",
   "execution_count": 82,
   "metadata": {},
   "outputs": [],
   "source": [
    "model.compile(loss =\"categorical_crossentropy\",optimizer = 'rmsprop')"
   ]
  },
  {
   "cell_type": "code",
   "execution_count": 83,
   "metadata": {
    "scrolled": false
   },
   "outputs": [
    {
     "name": "stdout",
     "output_type": "stream",
     "text": [
      "Epoch 1/30\n",
      "1297/1297 [==============================] - 132s 102ms/step - loss: 4.7874\n",
      "Epoch 2/30\n",
      "1297/1297 [==============================] - 131s 101ms/step - loss: 4.6852\n",
      "Epoch 3/30\n",
      "1297/1297 [==============================] - 131s 101ms/step - loss: 4.6731\n",
      "Epoch 4/30\n",
      "1297/1297 [==============================] - 130s 101ms/step - loss: 4.6638\n",
      "Epoch 5/30\n",
      "1297/1297 [==============================] - 153s 118ms/step - loss: 4.6530\n",
      "Epoch 6/30\n",
      "1297/1297 [==============================] - 137s 106ms/step - loss: 4.6443\n",
      "Epoch 7/30\n",
      "1297/1297 [==============================] - 131s 101ms/step - loss: 4.6299\n",
      "Epoch 8/30\n",
      "1297/1297 [==============================] - 135s 104ms/step - loss: 4.6146\n",
      "Epoch 9/30\n",
      "1297/1297 [==============================] - 142s 110ms/step - loss: 4.5954\n",
      "Epoch 10/30\n",
      "1297/1297 [==============================] - 144s 111ms/step - loss: 4.5759\n",
      "Epoch 11/30\n",
      "1297/1297 [==============================] - 137s 106ms/step - loss: 4.5639\n",
      "Epoch 12/30\n",
      "1297/1297 [==============================] - 144s 111ms/step - loss: 4.5533\n",
      "Epoch 13/30\n",
      "1297/1297 [==============================] - 142s 110ms/step - loss: 4.5512\n",
      "Epoch 14/30\n",
      "1297/1297 [==============================] - 138s 107ms/step - loss: 4.5552\n",
      "Epoch 15/30\n",
      "1297/1297 [==============================] - 142s 109ms/step - loss: 4.5601\n",
      "Epoch 16/30\n",
      "1297/1297 [==============================] - 148s 114ms/step - loss: 4.5528\n",
      "Epoch 17/30\n",
      "1297/1297 [==============================] - 141s 109ms/step - loss: 4.5404\n",
      "Epoch 18/30\n",
      "1297/1297 [==============================] - 1144s 882ms/step - loss: 4.5290\n",
      "Epoch 19/30\n",
      "1297/1297 [==============================] - 133s 103ms/step - loss: 4.5172\n",
      "Epoch 20/30\n",
      "1297/1297 [==============================] - 132s 102ms/step - loss: 4.5022\n",
      "Epoch 21/30\n",
      "1297/1297 [==============================] - 133s 103ms/step - loss: 4.4902\n",
      "Epoch 22/30\n",
      "1297/1297 [==============================] - 132s 102ms/step - loss: 4.4793\n",
      "Epoch 23/30\n",
      "1297/1297 [==============================] - 132s 102ms/step - loss: 4.4646\n",
      "Epoch 24/30\n",
      "1297/1297 [==============================] - 134s 103ms/step - loss: 4.4555\n",
      "Epoch 25/30\n",
      "1297/1297 [==============================] - 133s 103ms/step - loss: 4.4456\n",
      "Epoch 26/30\n",
      "1297/1297 [==============================] - 133s 102ms/step - loss: 4.4353\n",
      "Epoch 27/30\n",
      "1297/1297 [==============================] - 134s 103ms/step - loss: 4.4259\n",
      "Epoch 28/30\n",
      "1297/1297 [==============================] - 133s 102ms/step - loss: 4.4153\n",
      "Epoch 29/30\n",
      "1297/1297 [==============================] - 133s 103ms/step - loss: 4.4081\n",
      "Epoch 30/30\n",
      "1297/1297 [==============================] - 133s 102ms/step - loss: 4.4000\n"
     ]
    },
    {
     "data": {
      "text/plain": [
       "<tensorflow.python.keras.callbacks.History at 0x15a053adfc8>"
      ]
     },
     "execution_count": 83,
     "metadata": {},
     "output_type": "execute_result"
    }
   ],
   "source": [
    "class myCallback(tf.keras.callbacks.Callback):\n",
    "    def on_epoch_end(self,epoch,logs ={}):\n",
    "        if(logs.get(\"loss\") < 2.0):\n",
    "            print(\" \\n Loss is low so cancelling training \")\n",
    "            self.model.stop_training = True\n",
    "\n",
    "callbacks = myCallback()\n",
    "\n",
    "\n",
    "model.fit(network_input,network_output,epochs =30,batch_size=64,callbacks=[callbacks])"
   ]
  },
  {
   "cell_type": "markdown",
   "metadata": {},
   "source": [
    "## Music Generation "
   ]
  },
  {
   "cell_type": "code",
   "execution_count": 84,
   "metadata": {},
   "outputs": [
    {
     "name": "stdout",
     "output_type": "stream",
     "text": [
      "['9', '4.9', '4.9', '9', '9', '4.9', '9', '4.9', '9', '4.9', '4.9', '0', '0', '0', '0', '0', '0', '0', '0', '0', '0', '0', '0', '0', '0', '0', '0', '0', '0', '0', '0', '0', '0', '0', '0', '0', '0', '0', '0', '0', '0', '0', '0', '0', '0', '0', '0', '0', '0', '0', '0', '0', '0', '0', '0', '0', '0', '0', '0', '0', '0', '0', '0', '0', '0', '0', '0', '0', '0', '0', '0', '0', '0', '0', '0', '0', '0', '0', '0', '0', '0', '0', '0', '0', '0', '0', '0', '0', '0', '0', '0', '0', '0', '0', '0', '0', '0', '0', '0', '0', '0', '0', '0', '0', '0', '0', '0.3', '0.3', '0.3', '0.3', '0.3', '0.3', '0.3', '0.3', '0.3', '0.3', '0.3', '0.3', '0.3', '0.3', '0.3', '0.3', '0.3', '0.3', '0.3', '0.3', '0.3', '0.3', '0.3', '0.3', '0.3', '0.3', '0.3', '0.3', '0.3', '0.3', '0.3', '0.3', '0.3', '0.3', '0.3', '0.3', '0.3', '0.3', '0.3', '0.3', '0.3', '0.3', '0.3', '0.3', '0.3', '0.3', '0.3', '0.3', '0.3', '0.3', '0.3', '0.3', '0.3', '0.3', '0.3', '0.3', '0.3', '0.3', '0.3', '0.3', '0.3', '0.3', '0.3', '0.3', '0.3', '0.3', '0.3', '0.3', '0.3', '0.3', '0.3', '0.3', '0.3', '0.3', '0.3', '0.3', '0.3', '0.3', '0.3', '0.3', '0.3', '0.3', '0.3', '0.3', '0.3', '0.3', '0.3', '0.3', '0.3', '0.3', '0.3', '0.3', '0.3', '0.3', '0.3', '0.3', '0.3', '0.3', '0.3', '0.3', '0.3', '0.3', '0.3', '0.3', '0.3', '0.3', '0.3', '0.3', '0.3', '0.3', '0.3', '0.3', '0.3', '0.3', '0.3', '0.3', '0.3', '0.3', '0.3', '0.3', '0.3', '0.3', '0.3', '0.3', '0.3', '0.3', '0.3', '0.3', '0.3', '0.3', '0.3', '0.3', '0.3', '0.3', '0.3', '0.3', '0.3', '0.3', '0.3', '0.3', '0.3', '0.3', '0.3', '0.3', '0.3', '0.3', '0.3', '0.3', '0.3', '0.3', '0.3', '0.3', '0.3', '0.3', '0.3', '0.3', '0.3', '0.3', '0.3', '0.3', '0.3', '0.3', '0.3', '0.3', '0.3', '0.3', '0.3', '0.3', '0.3', '0.3', '0.3', '0.3', '0.3', '0.3', '0.3', '0.3', '0.3', '0.3', '0.3', '0.3', '0.3', '0.3', '0.3', '0.3', '0.3', '0.3', '0.3', '0.3', '0.3', '0.3', '0.3', '0.3', '0.3', '0.3']\n"
     ]
    }
   ],
   "source": [
    "random_start = np.random.randint(0,len(network_input)-1)\n",
    "int_to_Notes_Chord = dict((number,note) for number,note in enumerate(Unique_Notes_Chords))\n",
    "#print(int_to_Notes_Chord)\n",
    "\n",
    "# Shape of random pattern = (32,1)\n",
    "random_pattern = network_input_copy[random_start] \n",
    "prediction_output = []\n",
    "\n",
    "# Predicting 300 notes\n",
    "for i in range(300):\n",
    "    prediction_input = np.reshape(random_pattern, (1,len(random_pattern),1))\n",
    "    #normalising\n",
    "    prediction_input = prediction_input/ float(total_unique_notes)\n",
    "    \n",
    "    prediction = model.predict(prediction_input)\n",
    "    \n",
    "    index_note = np.argmax(prediction) #returns the index of most high prob\n",
    "    resulting_note = int_to_Notes_Chord[index_note]\n",
    "    \n",
    "    #list of outputs\n",
    "    prediction_output.append(resulting_note)\n",
    "    \n",
    "    random_pattern.append(index_note)\n",
    "    random_pattern = random_pattern[1:len(random_pattern)]\n",
    "    \n",
    "print(prediction_output)"
   ]
  },
  {
   "cell_type": "code",
   "execution_count": 85,
   "metadata": {},
   "outputs": [
    {
     "name": "stdout",
     "output_type": "stream",
     "text": [
      "[<music21.chord.Chord A>, <music21.chord.Chord E A>, <music21.chord.Chord E A>, <music21.chord.Chord A>, <music21.chord.Chord A>, <music21.chord.Chord E A>, <music21.chord.Chord A>, <music21.chord.Chord E A>, <music21.chord.Chord A>, <music21.chord.Chord E A>, <music21.chord.Chord E A>, <music21.chord.Chord C>, <music21.chord.Chord C>, <music21.chord.Chord C>, <music21.chord.Chord C>, <music21.chord.Chord C>, <music21.chord.Chord C>, <music21.chord.Chord C>, <music21.chord.Chord C>, <music21.chord.Chord C>, <music21.chord.Chord C>, <music21.chord.Chord C>, <music21.chord.Chord C>, <music21.chord.Chord C>, <music21.chord.Chord C>, <music21.chord.Chord C>, <music21.chord.Chord C>, <music21.chord.Chord C>, <music21.chord.Chord C>, <music21.chord.Chord C>, <music21.chord.Chord C>, <music21.chord.Chord C>, <music21.chord.Chord C>, <music21.chord.Chord C>, <music21.chord.Chord C>, <music21.chord.Chord C>, <music21.chord.Chord C>, <music21.chord.Chord C>, <music21.chord.Chord C>, <music21.chord.Chord C>, <music21.chord.Chord C>, <music21.chord.Chord C>, <music21.chord.Chord C>, <music21.chord.Chord C>, <music21.chord.Chord C>, <music21.chord.Chord C>, <music21.chord.Chord C>, <music21.chord.Chord C>, <music21.chord.Chord C>, <music21.chord.Chord C>, <music21.chord.Chord C>, <music21.chord.Chord C>, <music21.chord.Chord C>, <music21.chord.Chord C>, <music21.chord.Chord C>, <music21.chord.Chord C>, <music21.chord.Chord C>, <music21.chord.Chord C>, <music21.chord.Chord C>, <music21.chord.Chord C>, <music21.chord.Chord C>, <music21.chord.Chord C>, <music21.chord.Chord C>, <music21.chord.Chord C>, <music21.chord.Chord C>, <music21.chord.Chord C>, <music21.chord.Chord C>, <music21.chord.Chord C>, <music21.chord.Chord C>, <music21.chord.Chord C>, <music21.chord.Chord C>, <music21.chord.Chord C>, <music21.chord.Chord C>, <music21.chord.Chord C>, <music21.chord.Chord C>, <music21.chord.Chord C>, <music21.chord.Chord C>, <music21.chord.Chord C>, <music21.chord.Chord C>, <music21.chord.Chord C>, <music21.chord.Chord C>, <music21.chord.Chord C>, <music21.chord.Chord C>, <music21.chord.Chord C>, <music21.chord.Chord C>, <music21.chord.Chord C>, <music21.chord.Chord C>, <music21.chord.Chord C>, <music21.chord.Chord C>, <music21.chord.Chord C>, <music21.chord.Chord C>, <music21.chord.Chord C>, <music21.chord.Chord C>, <music21.chord.Chord C>, <music21.chord.Chord C>, <music21.chord.Chord C>, <music21.chord.Chord C>, <music21.chord.Chord C>, <music21.chord.Chord C>, <music21.chord.Chord C>, <music21.chord.Chord C>, <music21.chord.Chord C>, <music21.chord.Chord C>, <music21.chord.Chord C>, <music21.chord.Chord C>, <music21.chord.Chord C>, <music21.chord.Chord C E->, <music21.chord.Chord C E->, <music21.chord.Chord C E->, <music21.chord.Chord C E->, <music21.chord.Chord C E->, <music21.chord.Chord C E->, <music21.chord.Chord C E->, <music21.chord.Chord C E->, <music21.chord.Chord C E->, <music21.chord.Chord C E->, <music21.chord.Chord C E->, <music21.chord.Chord C E->, <music21.chord.Chord C E->, <music21.chord.Chord C E->, <music21.chord.Chord C E->, <music21.chord.Chord C E->, <music21.chord.Chord C E->, <music21.chord.Chord C E->, <music21.chord.Chord C E->, <music21.chord.Chord C E->, <music21.chord.Chord C E->, <music21.chord.Chord C E->, <music21.chord.Chord C E->, <music21.chord.Chord C E->, <music21.chord.Chord C E->, <music21.chord.Chord C E->, <music21.chord.Chord C E->, <music21.chord.Chord C E->, <music21.chord.Chord C E->, <music21.chord.Chord C E->, <music21.chord.Chord C E->, <music21.chord.Chord C E->, <music21.chord.Chord C E->, <music21.chord.Chord C E->, <music21.chord.Chord C E->, <music21.chord.Chord C E->, <music21.chord.Chord C E->, <music21.chord.Chord C E->, <music21.chord.Chord C E->, <music21.chord.Chord C E->, <music21.chord.Chord C E->, <music21.chord.Chord C E->, <music21.chord.Chord C E->, <music21.chord.Chord C E->, <music21.chord.Chord C E->, <music21.chord.Chord C E->, <music21.chord.Chord C E->, <music21.chord.Chord C E->, <music21.chord.Chord C E->, <music21.chord.Chord C E->, <music21.chord.Chord C E->, <music21.chord.Chord C E->, <music21.chord.Chord C E->, <music21.chord.Chord C E->, <music21.chord.Chord C E->, <music21.chord.Chord C E->, <music21.chord.Chord C E->, <music21.chord.Chord C E->, <music21.chord.Chord C E->, <music21.chord.Chord C E->, <music21.chord.Chord C E->, <music21.chord.Chord C E->, <music21.chord.Chord C E->, <music21.chord.Chord C E->, <music21.chord.Chord C E->, <music21.chord.Chord C E->, <music21.chord.Chord C E->, <music21.chord.Chord C E->, <music21.chord.Chord C E->, <music21.chord.Chord C E->, <music21.chord.Chord C E->, <music21.chord.Chord C E->, <music21.chord.Chord C E->, <music21.chord.Chord C E->, <music21.chord.Chord C E->, <music21.chord.Chord C E->, <music21.chord.Chord C E->, <music21.chord.Chord C E->, <music21.chord.Chord C E->, <music21.chord.Chord C E->, <music21.chord.Chord C E->, <music21.chord.Chord C E->, <music21.chord.Chord C E->, <music21.chord.Chord C E->, <music21.chord.Chord C E->, <music21.chord.Chord C E->, <music21.chord.Chord C E->, <music21.chord.Chord C E->, <music21.chord.Chord C E->, <music21.chord.Chord C E->, <music21.chord.Chord C E->, <music21.chord.Chord C E->, <music21.chord.Chord C E->, <music21.chord.Chord C E->, <music21.chord.Chord C E->, <music21.chord.Chord C E->, <music21.chord.Chord C E->, <music21.chord.Chord C E->, <music21.chord.Chord C E->, <music21.chord.Chord C E->, <music21.chord.Chord C E->, <music21.chord.Chord C E->, <music21.chord.Chord C E->, <music21.chord.Chord C E->, <music21.chord.Chord C E->, <music21.chord.Chord C E->, <music21.chord.Chord C E->, <music21.chord.Chord C E->, <music21.chord.Chord C E->, <music21.chord.Chord C E->, <music21.chord.Chord C E->, <music21.chord.Chord C E->, <music21.chord.Chord C E->, <music21.chord.Chord C E->, <music21.chord.Chord C E->, <music21.chord.Chord C E->, <music21.chord.Chord C E->, <music21.chord.Chord C E->, <music21.chord.Chord C E->, <music21.chord.Chord C E->, <music21.chord.Chord C E->, <music21.chord.Chord C E->, <music21.chord.Chord C E->, <music21.chord.Chord C E->, <music21.chord.Chord C E->, <music21.chord.Chord C E->, <music21.chord.Chord C E->, <music21.chord.Chord C E->, <music21.chord.Chord C E->, <music21.chord.Chord C E->, <music21.chord.Chord C E->, <music21.chord.Chord C E->, <music21.chord.Chord C E->, <music21.chord.Chord C E->, <music21.chord.Chord C E->, <music21.chord.Chord C E->, <music21.chord.Chord C E->, <music21.chord.Chord C E->, <music21.chord.Chord C E->, <music21.chord.Chord C E->, <music21.chord.Chord C E->, <music21.chord.Chord C E->, <music21.chord.Chord C E->, <music21.chord.Chord C E->, <music21.chord.Chord C E->, <music21.chord.Chord C E->, <music21.chord.Chord C E->, <music21.chord.Chord C E->, <music21.chord.Chord C E->, <music21.chord.Chord C E->, <music21.chord.Chord C E->, <music21.chord.Chord C E->, <music21.chord.Chord C E->, <music21.chord.Chord C E->, <music21.chord.Chord C E->, <music21.chord.Chord C E->, <music21.chord.Chord C E->, <music21.chord.Chord C E->, <music21.chord.Chord C E->, <music21.chord.Chord C E->, <music21.chord.Chord C E->, <music21.chord.Chord C E->, <music21.chord.Chord C E->, <music21.chord.Chord C E->, <music21.chord.Chord C E->, <music21.chord.Chord C E->, <music21.chord.Chord C E->, <music21.chord.Chord C E->, <music21.chord.Chord C E->, <music21.chord.Chord C E->, <music21.chord.Chord C E->, <music21.chord.Chord C E->, <music21.chord.Chord C E->, <music21.chord.Chord C E->, <music21.chord.Chord C E->, <music21.chord.Chord C E->, <music21.chord.Chord C E->, <music21.chord.Chord C E->, <music21.chord.Chord C E->, <music21.chord.Chord C E->, <music21.chord.Chord C E->, <music21.chord.Chord C E->, <music21.chord.Chord C E->, <music21.chord.Chord C E->, <music21.chord.Chord C E->, <music21.chord.Chord C E->, <music21.chord.Chord C E->, <music21.chord.Chord C E->, <music21.chord.Chord C E->, <music21.chord.Chord C E->, <music21.chord.Chord C E->, <music21.chord.Chord C E->, <music21.chord.Chord C E->, <music21.chord.Chord C E->]\n"
     ]
    },
    {
     "data": {
      "text/plain": [
       "'output1.mid'"
      ]
     },
     "execution_count": 85,
     "metadata": {},
     "output_type": "execute_result"
    }
   ],
   "source": [
    "from music21 import instrument, note, stream, chord\n",
    "offset = 0\n",
    "# offset is the gap between each notes in music\n",
    "final_output_notes = []\n",
    "\n",
    "for pattern in prediction_output:\n",
    "    #if pattern is chord\n",
    "    if (\".\" in pattern) or pattern.isdigit():\n",
    "        notes_in_chord = pattern.split(\".\")\n",
    "        notes =[]\n",
    "        for note_new in notes_in_chord:\n",
    "            int_note = int(note_new)\n",
    "            new_note = note.Note(int_note)\n",
    "            new_note.storedInstrument = instrument.Piano()\n",
    "            notes.append(new_note)\n",
    "        new_chord = chord.Chord(notes)\n",
    "        new_chord.offset = offset\n",
    "        final_output_notes.append(new_chord)\n",
    "        \n",
    "    #if pattern is note\n",
    "    else:\n",
    "        new_note = note.Note(pattern)\n",
    "        new_note.offset = offset\n",
    "        new_note.storedInstrument =instrument.Piano()\n",
    "        final_output_notes.append(new_note)\n",
    "        \n",
    "    #need to increase offset in order to not stack the notes\n",
    "    offset+=1\n",
    "\n",
    "print(final_output_notes)\n",
    "    \n",
    "final_musical_stream = stream.Stream(final_output_notes)\n",
    "\n",
    "final_musical_stream.write('midi','output1.mid')\n",
    "\n",
    "    \n",
    "        "
   ]
  },
  {
   "cell_type": "code",
   "execution_count": null,
   "metadata": {},
   "outputs": [],
   "source": []
  },
  {
   "cell_type": "code",
   "execution_count": null,
   "metadata": {},
   "outputs": [],
   "source": []
  },
  {
   "cell_type": "code",
   "execution_count": null,
   "metadata": {},
   "outputs": [],
   "source": []
  },
  {
   "cell_type": "code",
   "execution_count": null,
   "metadata": {},
   "outputs": [],
   "source": []
  },
  {
   "cell_type": "code",
   "execution_count": null,
   "metadata": {},
   "outputs": [],
   "source": []
  },
  {
   "cell_type": "code",
   "execution_count": null,
   "metadata": {},
   "outputs": [],
   "source": []
  },
  {
   "cell_type": "code",
   "execution_count": null,
   "metadata": {},
   "outputs": [],
   "source": []
  },
  {
   "cell_type": "code",
   "execution_count": null,
   "metadata": {},
   "outputs": [],
   "source": []
  },
  {
   "cell_type": "code",
   "execution_count": null,
   "metadata": {},
   "outputs": [],
   "source": [
    "random_start = np.random.randint(0,len(network_input)-1)\n",
    "int_to_Notes_Chord = dict((number,note) for number,note in enumerate(Unique_Notes_Chords))\n",
    "print(int_to_Notes_Chord)\n",
    "\n",
    "# Shape of random pattern = (32,1)\n",
    "random_pattern = network_input_copy[random_start] \n",
    "prediction_output = []\n",
    "\n",
    "# Predicting 300 notes\n",
    "for i in range(300):\n",
    "    prediction_input = np.reshape(random_pattern, (1,sequence_length,1))\n",
    "    #normalising\n",
    "    prediction_input = prediction_input/ float(total_unique_notes)\n",
    "    \n",
    "    prediction = model.predict(prediction_input, verbose = 0)\n",
    "    \n",
    "    index_note = np.argmax(prediction) #returns the index of most high prob\n",
    "    resulting_note = int_to_Notes_Chord[index_note]\n",
    "    \n",
    "    #list of outputs\n",
    "    prediction_output.append(resulting_note)\n",
    "    \n",
    "    random_pattern.append(index_note)\n",
    "    random_pattern = random_pattern[1:len(random_pattern)]\n",
    "    \n",
    "    \n",
    "    \n",
    "    \n",
    "\n",
    "    "
   ]
  }
 ],
 "metadata": {
  "kernelspec": {
   "display_name": "Python 3.7.7 64-bit",
   "language": "python",
   "name": "python37764bit37bb34037a7d49a09cea56e4b1c7f0d5"
  },
  "language_info": {
   "codemirror_mode": {
    "name": "ipython",
    "version": 3
   },
   "file_extension": ".py",
   "mimetype": "text/x-python",
   "name": "python",
   "nbconvert_exporter": "python",
   "pygments_lexer": "ipython3",
   "version": "3.7.7"
  }
 },
 "nbformat": 4,
 "nbformat_minor": 4
}
